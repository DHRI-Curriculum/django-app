{
 "cells": [
  {
   "cell_type": "code",
   "execution_count": 75,
   "metadata": {},
   "outputs": [],
   "source": [
    "\n",
    "di = {\n",
    "    'Abstract': '', \n",
    "    'Learning Objectives': '', \n",
    "    'Estimated time': '', \n",
    "    'Prerequisites': '', \n",
    "    'Pre-reading suggestions': '', \n",
    "    'Projects that use these skills': '', \n",
    "    'Ethical Considerations': '', \n",
    "    'Resources (optional)': '', \n",
    "    'Acknowledgements': '', \n",
    "    'Name': '', \n",
    "    'Parent repo': '', \n",
    "    'Parent backend': '', \n",
    "    'Parent branch': ''\n",
    "}\n"
   ]
  },
  {
   "cell_type": "code",
   "execution_count": 78,
   "metadata": {},
   "outputs": [],
   "source": [
    "check_translate(dictionary=NORMALIZING_SECTIONS) # checks so that TRANSLATE does not contain multiple strings for normalization"
   ]
  },
  {
   "cell_type": "code",
   "execution_count": 79,
   "metadata": {},
   "outputs": [
    {
     "name": "stdout",
     "output_type": "stream",
     "text": [
      "{'abstract': '', 'learning_objectives': '', 'estimated_time': '', 'contributors': '', 'ethical_considerations': '', 'resources': '', 'parent_backend': '', 'parent_repo': '', 'parent_branch': ''}\n"
     ]
    }
   ],
   "source": [
    "_ = {}\n",
    "for normalized_key, alts in TRANSLATE.items():\n",
    "    for alt in alts:\n",
    "        done = False\n",
    "        for key, val in di.items():\n",
    "            if done:\n",
    "                continue\n",
    "            if key.lower() == alt.lower():\n",
    "                _[normalized_key] = val\n",
    "                done = True\n",
    "print(_)"
   ]
  },
  {
   "cell_type": "code",
   "execution_count": null,
   "metadata": {},
   "outputs": [],
   "source": []
  },
  {
   "cell_type": "code",
   "execution_count": 45,
   "metadata": {},
   "outputs": [],
   "source": []
  },
  {
   "cell_type": "code",
   "execution_count": null,
   "metadata": {},
   "outputs": [],
   "source": []
  },
  {
   "cell_type": "code",
   "execution_count": null,
   "metadata": {},
   "outputs": [],
   "source": []
  }
 ],
 "metadata": {
  "kernelspec": {
   "display_name": "Python 3",
   "language": "python",
   "name": "python3"
  },
  "language_info": {
   "codemirror_mode": {
    "name": "ipython",
    "version": 3
   },
   "file_extension": ".py",
   "mimetype": "text/x-python",
   "name": "python",
   "nbconvert_exporter": "python",
   "pygments_lexer": "ipython3",
   "version": "3.7.6"
  }
 },
 "nbformat": 4,
 "nbformat_minor": 2
}
