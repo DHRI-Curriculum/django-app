{
 "cells": [
  {
   "cell_type": "code",
   "execution_count": 65,
   "metadata": {},
   "outputs": [],
   "source": [
    "import sys\n",
    "\n",
    "sys.path.append('/Users/kallewesterling/Dropbox (Graduate Center)/dev-dhri/django-app/')"
   ]
  },
  {
   "cell_type": "code",
   "execution_count": 66,
   "metadata": {},
   "outputs": [],
   "source": [
    "from pathlib import Path\n",
    "import json\n",
    "\n",
    "data = json.loads(Path('../../lessons.json').read_text())"
   ]
  },
  {
   "cell_type": "code",
   "execution_count": null,
   "metadata": {},
   "outputs": [],
   "source": []
  },
  {
   "cell_type": "code",
   "execution_count": null,
   "metadata": {},
   "outputs": [],
   "source": []
  },
  {
   "cell_type": "code",
   "execution_count": null,
   "metadata": {},
   "outputs": [],
   "source": []
  },
  {
   "cell_type": "code",
   "execution_count": 116,
   "metadata": {},
   "outputs": [],
   "source": [
    "from pathlib import Path\n",
    "from collections import OrderedDict"
   ]
  },
  {
   "cell_type": "code",
   "execution_count": 220,
   "metadata": {},
   "outputs": [
    {
     "name": "stdout",
     "output_type": "stream",
     "text": [
      "we have a challenge with no solution! Raise warning maybe...\n",
      "we have a challenge with no solution! Raise warning maybe...\n",
      "we have a challenge with no solution! Raise warning maybe...\n",
      "we have a challenge with no solution! Raise warning maybe...\n"
     ]
    }
   ],
   "source": [
    "class Lesson():\n",
    "    \n",
    "    def __len__(self):\n",
    "        return(len(self.data))\n",
    "        \n",
    "    def __init__(self, markdown:str):\n",
    "        self.markdown = markdown\n",
    "        \n",
    "        self.data = []\n",
    "\n",
    "        for title, body in split_into_sections(self.markdown, level_granularity=1).items():\n",
    "            droplines = []\n",
    "\n",
    "            challenge = \"\"\n",
    "            # test for challenge\n",
    "            if \"challenge\" in body.lower():\n",
    "                for line_num, line in enumerate(body.splitlines()):\n",
    "                    if line.lower().startswith(\"## challenge\"):\n",
    "                        droplines.append(line_num)\n",
    "                        startline = line_num + 1\n",
    "                        nextlines = (item for item in body.splitlines()[startline:])\n",
    "                        done = False\n",
    "                        while not done:\n",
    "                            try:\n",
    "                                l = next(nextlines)\n",
    "                                if l.startswith(\"#\"):\n",
    "                                    done = True\n",
    "                                    continue\n",
    "                                challenge += l + \"\\n\"\n",
    "                                droplines.append(startline)\n",
    "                                startline += 1\n",
    "                            except StopIteration:\n",
    "                                done = True\n",
    "\n",
    "            solution = \"\"\n",
    "            # test for solution\n",
    "            if \"solution\" in body.lower():\n",
    "                for line_num, line in enumerate(body.splitlines()):\n",
    "                    if line.lower().startswith(\"## solution\"):\n",
    "                        droplines.append(line_num)\n",
    "                        startline = line_num + 1\n",
    "                        nextlines = (item for item in body.splitlines()[startline:])\n",
    "                        done = False\n",
    "                        while not done:\n",
    "                            try:\n",
    "                                l = next(nextlines)\n",
    "                                if l.startswith(\"#\"):\n",
    "                                    done = True\n",
    "                                    continue\n",
    "                                solution += l + \"\\n\"\n",
    "                                droplines.append(startline)\n",
    "                                startline += 1\n",
    "                            except StopIteration:\n",
    "                                done = True\n",
    "\n",
    "            # fix body\n",
    "            cleaned_body = ''\n",
    "            for i, line in enumerate(body.splitlines()):\n",
    "                if line.strip() == '': continue\n",
    "                if i not in droplines:\n",
    "                    cleaned_body += line + '\\n'\n",
    "            \n",
    "            # clean up everything\n",
    "            title = title.replace(\"\\n\", \" \").strip()\n",
    "            cleaned_body = cleaned_body.replace(\"\\n\", \" \").strip()\n",
    "            challenge = challenge.replace(\"\\n\", \" \").strip()\n",
    "            solution = solution.replace(\"\\n\", \" \").strip()\n",
    "            \n",
    "            if challenge == '': challenge = None\n",
    "            if solution == '': solution = None\n",
    "            \n",
    "            if solution and not challenge:\n",
    "                raise RuntimeError(\"What is happening - we have only a solution in this lesson\")\n",
    "            elif challenge and not solution:\n",
    "                print('we have a challenge with no solution! Raise warning maybe...')\n",
    "            \n",
    "            data = {\n",
    "                    'title': lesson,\n",
    "                    'body': cleaned_body,\n",
    "                    'challenge': challenge,\n",
    "                    'solution': solution\n",
    "                }\n",
    "            \n",
    "            self.data.append(data)\n",
    "\n",
    "raw_lesson_markdown = Path('../../lessons.txt').read_text()\n",
    "\n",
    "l = Lesson(raw_lesson_markdown)"
   ]
  },
  {
   "cell_type": "code",
   "execution_count": 222,
   "metadata": {},
   "outputs": [
    {
     "data": {
      "text/plain": [
       "18"
      ]
     },
     "execution_count": 222,
     "metadata": {},
     "output_type": "execute_result"
    }
   ],
   "source": [
    "from pprint import pprint\n",
    "\n",
    "for lesson in l.data:\n",
    "    if lesson['challenge']:\n",
    "        print(lesson['challenge'])\n",
    "        print(lesson['solution'])"
   ]
  },
  {
   "cell_type": "code",
   "execution_count": null,
   "metadata": {},
   "outputs": [],
   "source": []
  },
  {
   "cell_type": "code",
   "execution_count": null,
   "metadata": {},
   "outputs": [],
   "source": []
  },
  {
   "cell_type": "code",
   "execution_count": null,
   "metadata": {},
   "outputs": [],
   "source": []
  },
  {
   "cell_type": "code",
   "execution_count": 49,
   "metadata": {},
   "outputs": [],
   "source": [
    "data = Path('../../lessons.txt').read_text()"
   ]
  },
  {
   "cell_type": "code",
   "execution_count": null,
   "metadata": {},
   "outputs": [],
   "source": []
  },
  {
   "cell_type": "code",
   "execution_count": null,
   "metadata": {},
   "outputs": [],
   "source": []
  }
 ],
 "metadata": {
  "kernelspec": {
   "display_name": "Python 3.8.0 64-bit",
   "language": "python",
   "name": "python38064bitd74070990f3d402eb483695c8dddeff7"
  },
  "language_info": {
   "codemirror_mode": {
    "name": "ipython",
    "version": 3
   },
   "file_extension": ".py",
   "mimetype": "text/x-python",
   "name": "python",
   "nbconvert_exporter": "python",
   "pygments_lexer": "ipython3",
   "version": "3.8.0"
  }
 },
 "nbformat": 4,
 "nbformat_minor": 2
}
